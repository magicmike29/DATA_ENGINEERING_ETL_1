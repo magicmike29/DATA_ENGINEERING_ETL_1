{
 "cells": [
  {
   "cell_type": "markdown",
   "metadata": {},
   "source": [
    "# DATA ENGINEERING ETL PROCESS USING PYTHON\n"
   ]
  },
  {
   "cell_type": "code",
   "execution_count": 2,
   "metadata": {},
   "outputs": [],
   "source": [
    "from datetime import datetime\n",
    "import glob\n",
    "import pandas as pd \n",
    "import xml.etree.cElementTree as ET\n",
    "import urllib.request\n",
    "from zipfile import ZipFile\n"
   ]
  },
  {
   "cell_type": "markdown",
   "metadata": {},
   "source": [
    "## DOWLOADING .ZIP FILE"
   ]
  },
  {
   "cell_type": "code",
   "execution_count": null,
   "metadata": {},
   "outputs": [],
   "source": [
    "url=\"https://cf-courses-data.s3.us.cloud-object-storage.appdomain.cloud/IBMDeveloperSkillsNetwork-PY0221EN-SkillsNetwork/labs/module%206/Lab%20-%20Extract%20Transform%20Load/data/datasource.zip\"\n",
    "\n",
    "urllib.request.urlretrieve(url,\"datasource.zip\")"
   ]
  },
  {
   "cell_type": "markdown",
   "metadata": {},
   "source": [
    "## UNZIPING FILE"
   ]
  },
  {
   "cell_type": "code",
   "execution_count": 4,
   "metadata": {},
   "outputs": [],
   "source": [
    "with ZipFile(\"datasource.zip\",\"r\") as ZipF:\n",
    "    ZipF.extractall()"
   ]
  },
  {
   "cell_type": "markdown",
   "metadata": {},
   "source": [
    "## SET PATHS"
   ]
  },
  {
   "cell_type": "code",
   "execution_count": 7,
   "metadata": {},
   "outputs": [],
   "source": [
    "logfile=\"logfile.txt\" #TO STORE ALL LOG EVENTS\n",
    "targetfile=\"transformed_data.csv\" #TO STORE ALL TRANSFORMED DATA\n",
    "\n"
   ]
  },
  {
   "cell_type": "markdown",
   "metadata": {},
   "source": [
    "## EXTRACT"
   ]
  },
  {
   "cell_type": "markdown",
   "metadata": {},
   "source": [
    "### EXTRACT FROM CSV"
   ]
  },
  {
   "cell_type": "code",
   "execution_count": null,
   "metadata": {},
   "outputs": [],
   "source": [
    "def extract_csv(file_to_process):\n",
    "    df=pd.read_csv(file_to_process)\n",
    "    return df\n",
    "\n",
    "\n",
    "extract_csv(\"used_car_prices1.csv\") #to see if the function is working"
   ]
  },
  {
   "cell_type": "markdown",
   "metadata": {},
   "source": [
    "### EXTRACT FROM JSON"
   ]
  },
  {
   "cell_type": "code",
   "execution_count": 59,
   "metadata": {},
   "outputs": [],
   "source": [
    "\n",
    "\n",
    "def extract_json(file_to_process):\n",
    "    df=pd.read_json(file_to_process,lines=True)\n",
    "    return df\n",
    "\n",
    "#extract_json(\"used_car_prices1.json\")#to see if the function is working\n"
   ]
  },
  {
   "cell_type": "markdown",
   "metadata": {},
   "source": [
    "### EXTRACT FROM XML"
   ]
  },
  {
   "cell_type": "code",
   "execution_count": 60,
   "metadata": {},
   "outputs": [],
   "source": [
    "def extract_xml(file_to_process):\n",
    "    df=pd.DataFrame(columns=[\"car_model\",\"year_of_manufacture\",\"price\",\"fuel\"])\n",
    "    tree=ET.parse(file_to_process)\n",
    "    root=tree.getroot()\n",
    "    for i in root:\n",
    "        car_model=i.find(\"car_model\").text\n",
    "        year_of_manufacture=i.find(\"year_of_manufacture\").text\n",
    "        price=float(i.find(\"price\").text)\n",
    "        fuel=i.find(\"fuel\").text\n",
    "        df=df.append({\"car_model\":car_model, \"year_of_manufacture\":year_of_manufacture,\"price\":price,\"fuel\":fuel}, ignore_index=True)\n",
    "    return df\n",
    "\n",
    "#extract_xml(\"used_car_prices1.xml\")#to see if the function is working\n"
   ]
  },
  {
   "cell_type": "markdown",
   "metadata": {},
   "source": [
    "### EXTRACT FUNCTION"
   ]
  },
  {
   "cell_type": "code",
   "execution_count": null,
   "metadata": {},
   "outputs": [],
   "source": [
    "def extract():\n",
    "    extracted_data=pd.DataFrame(columns=[\"car_model\",\"year_of_manufacture\",\"price\",\"fuel\"])\n",
    "\n",
    "    for csv in glob.glob(\"*.csv\"):\n",
    "        extracted_data=extracted_data.append(extract_csv(csv),ignore_index=True)\n",
    "    \n",
    "    for json in glob.glob(\"*.json\"):\n",
    "        extracted_data=extracted_data.append(extract_json(json),ignore_index=True)\n",
    "    \n",
    "    for xml in glob.glob(\"*.xml\"):\n",
    "        extracted_data=extracted_data.append(extract_xml(xml),ignore_index=True)\n",
    "    \n",
    "    return extracted_data\n",
    "\n",
    "#To check the extract function\n",
    "#x=extract()\n",
    "#print(x)\n"
   ]
  },
  {
   "cell_type": "markdown",
   "metadata": {},
   "source": [
    "## TRANSFORM\n",
    "In this case we will round the values of the column \"price\" to two decimal places "
   ]
  },
  {
   "cell_type": "code",
   "execution_count": null,
   "metadata": {},
   "outputs": [],
   "source": [
    "def transform(data):\n",
    "    data.price=data.price.astype(float)\n",
    "    data[\"price\"]=round(data.price,2)\n",
    "\n",
    "    return data\n",
    "\n",
    "#transform(x) #To see if the function works"
   ]
  },
  {
   "cell_type": "markdown",
   "metadata": {},
   "source": [
    "## LOADING"
   ]
  },
  {
   "cell_type": "code",
   "execution_count": 77,
   "metadata": {},
   "outputs": [],
   "source": [
    "def load(targetfile, data_to_load):\n",
    "    data_to_load.to_csv(targetfile,index=False)"
   ]
  },
  {
   "cell_type": "markdown",
   "metadata": {},
   "source": [
    "## LOGGING"
   ]
  },
  {
   "cell_type": "code",
   "execution_count": 83,
   "metadata": {},
   "outputs": [],
   "source": [
    "def log(message):\n",
    "    timestamp_format=\"%Y-%h-%d-%H:%M:%S\"\n",
    "    now=datetime.now()\n",
    "    timestamp=now.strftime(timestamp_format)\n",
    "    with open(\"logfile.txt\",\"a\") as lf:\n",
    "        lf.write(timestamp + \", \" + message + \"\\n\")"
   ]
  },
  {
   "cell_type": "markdown",
   "metadata": {},
   "source": [
    "## RUNNING THE ENTIRE ETL PROCESS"
   ]
  },
  {
   "cell_type": "code",
   "execution_count": 108,
   "metadata": {},
   "outputs": [],
   "source": [
    "log(\"Starting ETL process\")"
   ]
  },
  {
   "cell_type": "code",
   "execution_count": null,
   "metadata": {},
   "outputs": [],
   "source": [
    "log(\"Starting with the Extract phase\")\n",
    "extracted_data=extract()\n",
    "log(\"Extract phase concluded\")"
   ]
  },
  {
   "cell_type": "code",
   "execution_count": null,
   "metadata": {},
   "outputs": [],
   "source": [
    "log(\"Starting with the transform phase\")\n",
    "transform=transform(extracted_data)\n",
    "log(\"Transform phase ended\")\n"
   ]
  },
  {
   "cell_type": "code",
   "execution_count": 111,
   "metadata": {},
   "outputs": [],
   "source": [
    "log(\"Load phase started\")"
   ]
  },
  {
   "cell_type": "code",
   "execution_count": 112,
   "metadata": {},
   "outputs": [],
   "source": [
    "load(targetfile,transform)\n",
    "log(\"Load phase Ended\")"
   ]
  },
  {
   "cell_type": "code",
   "execution_count": null,
   "metadata": {},
   "outputs": [],
   "source": [
    "#pd.read_csv(\"transformed_data.csv\") #To check if the new created csv file is correct"
   ]
  }
 ],
 "metadata": {
  "kernelspec": {
   "display_name": "Python 3.10.3 64-bit",
   "language": "python",
   "name": "python3"
  },
  "language_info": {
   "codemirror_mode": {
    "name": "ipython",
    "version": 3
   },
   "file_extension": ".py",
   "mimetype": "text/x-python",
   "name": "python",
   "nbconvert_exporter": "python",
   "pygments_lexer": "ipython3",
   "version": "3.10.3"
  },
  "orig_nbformat": 4,
  "vscode": {
   "interpreter": {
    "hash": "0eee2fbb4b2a29459cb3b76ce4fe0566e4223da365c76c9af49a70e5b86c1cab"
   }
  }
 },
 "nbformat": 4,
 "nbformat_minor": 2
}
